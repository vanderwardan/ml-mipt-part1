{
 "cells": [
  {
   "cell_type": "markdown",
   "metadata": {},
   "source": [
    "** Outline:**\n",
    "* Визуализация данных\n",
    "* Генерация данных    "
   ]
  },
  {
   "cell_type": "code",
   "execution_count": 1,
   "metadata": {},
   "outputs": [],
   "source": [
    "from IPython.core.display import Image\n",
    "import pandas\n",
    "from sklearn import datasets\n",
    "from scipy.stats import gaussian_kde\n",
    "import seaborn as sns\n",
    "from matplotlib.colors import ListedColormap\n",
    "\n",
    "%matplotlib inline\n",
    "\n",
    "import warnings\n",
    "warnings.filterwarnings('ignore')"
   ]
  },
  {
   "cell_type": "markdown",
   "metadata": {},
   "source": [
    "<h1 align=\"center\">  Визуализация данных </h1>"
   ]
  },
  {
   "cell_type": "markdown",
   "metadata": {},
   "source": [
    "# Квартет Энскомба"
   ]
  },
  {
   "cell_type": "markdown",
   "metadata": {},
   "source": [
    "Подробнее, см. на Википедии.\n",
    "\n",
    "Наборы данных имеют одинаковое среднее, дисперсию, коэффициент корреляции между признаками. При визуализации на плоскости оказывается, что они имеют принципиально разный характер.\n"
   ]
  },
  {
   "cell_type": "code",
   "execution_count": 2,
   "metadata": {},
   "outputs": [
    {
     "ename": "NameError",
     "evalue": "name 'array' is not defined",
     "output_type": "error",
     "traceback": [
      "\u001b[1;31m---------------------------------------------------------------------------\u001b[0m",
      "\u001b[1;31mNameError\u001b[0m                                 Traceback (most recent call last)",
      "\u001b[1;32m<ipython-input-2-5b55b5155f49>\u001b[0m in \u001b[0;36m<module>\u001b[1;34m()\u001b[0m\n\u001b[1;32m----> 1\u001b[1;33m A = array([\n\u001b[0m\u001b[0;32m      2\u001b[0m \u001b[1;33m[\u001b[0m\u001b[1;36m10.0\u001b[0m\u001b[1;33m,\u001b[0m \u001b[1;36m8.04\u001b[0m\u001b[1;33m,\u001b[0m \u001b[1;36m10.0\u001b[0m\u001b[1;33m,\u001b[0m \u001b[1;36m9.14\u001b[0m\u001b[1;33m,\u001b[0m \u001b[1;36m10.0\u001b[0m\u001b[1;33m,\u001b[0m \u001b[1;36m7.46\u001b[0m\u001b[1;33m,\u001b[0m \u001b[1;36m8.0\u001b[0m\u001b[1;33m,\u001b[0m \u001b[1;36m6.58\u001b[0m\u001b[1;33m]\u001b[0m\u001b[1;33m,\u001b[0m\u001b[1;33m\u001b[0m\u001b[0m\n\u001b[0;32m      3\u001b[0m \u001b[1;33m[\u001b[0m\u001b[1;36m8.0\u001b[0m\u001b[1;33m,\u001b[0m \u001b[1;36m6.95\u001b[0m\u001b[1;33m,\u001b[0m \u001b[1;36m8.0\u001b[0m\u001b[1;33m,\u001b[0m \u001b[1;36m8.14\u001b[0m\u001b[1;33m,\u001b[0m \u001b[1;36m8.0\u001b[0m\u001b[1;33m,\u001b[0m \u001b[1;36m6.77\u001b[0m\u001b[1;33m,\u001b[0m \u001b[1;36m8.0\u001b[0m\u001b[1;33m,\u001b[0m \u001b[1;36m5.76\u001b[0m\u001b[1;33m]\u001b[0m\u001b[1;33m,\u001b[0m\u001b[1;33m\u001b[0m\u001b[0m\n\u001b[0;32m      4\u001b[0m \u001b[1;33m[\u001b[0m\u001b[1;36m13.0\u001b[0m\u001b[1;33m,\u001b[0m \u001b[1;36m7.58\u001b[0m\u001b[1;33m,\u001b[0m \u001b[1;36m13.0\u001b[0m\u001b[1;33m,\u001b[0m \u001b[1;36m8.74\u001b[0m\u001b[1;33m,\u001b[0m \u001b[1;36m13.0\u001b[0m\u001b[1;33m,\u001b[0m \u001b[1;36m12.74\u001b[0m\u001b[1;33m,\u001b[0m \u001b[1;36m8.0\u001b[0m\u001b[1;33m,\u001b[0m \u001b[1;36m7.71\u001b[0m\u001b[1;33m]\u001b[0m\u001b[1;33m,\u001b[0m\u001b[1;33m\u001b[0m\u001b[0m\n\u001b[0;32m      5\u001b[0m \u001b[1;33m[\u001b[0m\u001b[1;36m9.0\u001b[0m\u001b[1;33m,\u001b[0m \u001b[1;36m8.81\u001b[0m\u001b[1;33m,\u001b[0m \u001b[1;36m9.0\u001b[0m\u001b[1;33m,\u001b[0m \u001b[1;36m8.77\u001b[0m\u001b[1;33m,\u001b[0m \u001b[1;36m9.0\u001b[0m\u001b[1;33m,\u001b[0m \u001b[1;36m7.11\u001b[0m\u001b[1;33m,\u001b[0m \u001b[1;36m8.0\u001b[0m\u001b[1;33m,\u001b[0m \u001b[1;36m8.84\u001b[0m\u001b[1;33m]\u001b[0m\u001b[1;33m,\u001b[0m\u001b[1;33m\u001b[0m\u001b[0m\n",
      "\u001b[1;31mNameError\u001b[0m: name 'array' is not defined"
     ]
    }
   ],
   "source": [
    "A = array([\n",
    "[10.0, 8.04, 10.0, 9.14, 10.0, 7.46, 8.0, 6.58],\n",
    "[8.0, 6.95, 8.0, 8.14, 8.0, 6.77, 8.0, 5.76],\n",
    "[13.0, 7.58, 13.0, 8.74, 13.0, 12.74, 8.0, 7.71],\n",
    "[9.0, 8.81, 9.0, 8.77, 9.0, 7.11, 8.0, 8.84],\n",
    "[11.0, 8.33, 11.0, 9.26, 11.0, 7.81, 8.0, 8.47],\n",
    "[14.0, 9.96, 14.0, 8.10, 14.0, 8.84, 8.0, 7.04],\n",
    "[6.0, 7.24, 6.0, 6.13, 6.0, 6.08, 8.0, 5.25],\n",
    "[4.0, 4.26, 4.0, 3.10, 4.0, 5.39, 19.0, 12.50],\n",
    "[12.0, 10.84, 12.0, 9.13, 12.0, 8.15, 8.0, 5.56],\n",
    "[7.0, 4.82, 7.0, 7.26, 7.0, 6.42, 8.0, 7.91],\n",
    "[5.0, 5.68, 5.0, 4.74, 5.0, 5.73, 8.0, 6.89],\n",
    "])\n",
    "data = [A[:, :2], A[:, 2:4], A[:, 4:6], A[:, 6:]]"
   ]
  },
  {
   "cell_type": "code",
   "execution_count": null,
   "metadata": {},
   "outputs": [],
   "source": [
    "for idx, X in enumerate(data):\n",
    "    print ('X%d' % (idx+1))\n",
    "    print ('  Mean:', mean(X, axis=0))\n",
    "    print ('  Std:', std(X, axis=0))\n",
    "    print ('  Pearson correlation:', corrcoef(X.T)[0, 1])"
   ]
  },
  {
   "cell_type": "code",
   "execution_count": null,
   "metadata": {},
   "outputs": [],
   "source": [
    "imshow(A, interpolation='none')\n",
    "colorbar()"
   ]
  },
  {
   "cell_type": "code",
   "execution_count": null,
   "metadata": {},
   "outputs": [],
   "source": [
    "figure(figsize=(16, 4))\n",
    "for idx, X in enumerate(data):\n",
    "    subplot(1, 4, idx+1)\n",
    "    scatter(X[:, 0], X[:, 1])"
   ]
  },
  {
   "cell_type": "markdown",
   "metadata": {},
   "source": [
    "# Наборы данных"
   ]
  },
  {
   "cell_type": "markdown",
   "metadata": {},
   "source": [
    "Стандартные наборы данных и генераторы в SciKit-Learn"
   ]
  },
  {
   "cell_type": "code",
   "execution_count": null,
   "metadata": {
    "collapsed": true
   },
   "outputs": [],
   "source": [
    "diabetes = datasets.load_diabetes()\n",
    "X = diabetes.data"
   ]
  },
  {
   "cell_type": "code",
   "execution_count": null,
   "metadata": {
    "collapsed": true
   },
   "outputs": [],
   "source": [
    "# sample 1-d data\n",
    "points1 = random.choice(X[:, 5], 100)"
   ]
  },
  {
   "cell_type": "code",
   "execution_count": null,
   "metadata": {
    "collapsed": true
   },
   "outputs": [],
   "source": [
    "# sample 2-d data\n",
    "points2x, points2y = X[:,5], X[:,6]"
   ]
  },
  {
   "cell_type": "markdown",
   "metadata": {},
   "source": [
    "# Одномерные признаки"
   ]
  },
  {
   "cell_type": "markdown",
   "metadata": {},
   "source": [
    "## Набор точек на прямой"
   ]
  },
  {
   "cell_type": "code",
   "execution_count": null,
   "metadata": {},
   "outputs": [],
   "source": [
    "figure(figsize=(15, 1.5)), grid(True, axis='x'), yticks([])\n",
    "scatter(points1, zeros(len(points1)), s=50, alpha=0.4)"
   ]
  },
  {
   "cell_type": "code",
   "execution_count": null,
   "metadata": {},
   "outputs": [],
   "source": [
    "figure(figsize=(15, 1.5)), grid(True, axis='x'), yticks([])\n",
    "scatter(points1, zeros(len(points1)), s=50, alpha=0.2)"
   ]
  },
  {
   "cell_type": "code",
   "execution_count": null,
   "metadata": {},
   "outputs": [],
   "source": [
    "figure(figsize=(15, 1.5)), grid(True, axis='x'), yticks([])\n",
    "scatter(points1, zeros(len(points1)), s=50, alpha=0.1)"
   ]
  },
  {
   "cell_type": "code",
   "execution_count": null,
   "metadata": {},
   "outputs": [],
   "source": [
    "figure(figsize=(15, 1.5)), grid(True, axis='x'), yticks([])\n",
    "scatter(points1, zeros(len(points1)), s=50, alpha=0.9)"
   ]
  },
  {
   "cell_type": "markdown",
   "metadata": {},
   "source": [
    "## Jitter: случайно выбираем вертикальную координату, чтобы лучше видеть количество точек"
   ]
  },
  {
   "cell_type": "code",
   "execution_count": null,
   "metadata": {},
   "outputs": [],
   "source": [
    "figure(figsize=(15, 1.5)), grid(True, axis='x'), yticks([])\n",
    "scatter(points1, randn(len(points1)), s=50, marker='*')"
   ]
  },
  {
   "cell_type": "markdown",
   "metadata": {},
   "source": [
    "## Гистограмма"
   ]
  },
  {
   "cell_type": "code",
   "execution_count": null,
   "metadata": {},
   "outputs": [],
   "source": [
    "hist(points1)"
   ]
  },
  {
   "cell_type": "markdown",
   "metadata": {},
   "source": [
    "## Гистограмма: число бинов"
   ]
  },
  {
   "cell_type": "code",
   "execution_count": null,
   "metadata": {},
   "outputs": [],
   "source": [
    "figure(figsize=(17, 4))\n",
    "subplot(1, 3, 1), hist(points1, bins=5)\n",
    "subplot(1, 3, 2), hist(points1, bins=20)\n",
    "subplot(1, 3, 3), hist(points1, bins=40)"
   ]
  },
  {
   "cell_type": "markdown",
   "metadata": {},
   "source": [
    "## KDE: Kernel Density Estimation"
   ]
  },
  {
   "cell_type": "code",
   "execution_count": null,
   "metadata": {},
   "outputs": [],
   "source": [
    "figure(figsize=(12, 6))\n",
    "density = gaussian_kde(points1)\n",
    "xs = linspace(min(points1)-0.01, max(points1)+0.01, 100)\n",
    "plot(xs, density(xs), linewidth=2.5, color='red')\n",
    "scatter(points1, zeros(len(points1)), s=50, alpha=0.4)"
   ]
  },
  {
   "cell_type": "code",
   "execution_count": null,
   "metadata": {},
   "outputs": [],
   "source": [
    "figure(figsize=(17, 4))\n",
    "\n",
    "xs = linspace(min(points1)-0.01, max(points1)+0.01, 100)\n",
    "\n",
    "widths = [0.05, 0.2, 2]\n",
    "\n",
    "for i, width in enumerate(widths):\n",
    "    subplot(1, 3, i+1)\n",
    "    density = gaussian_kde(points1, bw_method=width)\n",
    "    plot(xs, density(xs), linewidth=2.5, color='green')\n",
    "    scatter(points1, zeros(len(points1)), s=50, alpha=0.4)"
   ]
  },
  {
   "cell_type": "markdown",
   "metadata": {},
   "source": [
    "## Последовательности"
   ]
  },
  {
   "cell_type": "code",
   "execution_count": null,
   "metadata": {
    "collapsed": true
   },
   "outputs": [],
   "source": [
    "seq1 = [0.035753708, 0.025425873, -0.02886173, -0.062208079, 0.009859905, -0.029191028, 0.015445348, -0.041167612, 0.000661905, 0.022037345, -0.022692465, -0.013708704, 0.000864697, -0.00381506, 0.00566126, 0.046831302, -0.006634978, 0.034566982, -0.020528213, -0.008776701, -0.025919141, 0.015279487, 0.018577796, -0.014132879, 0.036607044, 0.011353209, -0.040542021, -0.022105644, -0.014888368, 0.007026745, -0.011494996, -0.041136038, -0.002631499, 0.024654643, -0.03584061, 0.017303168, 0.001725406, 0.004975853, 0.000671759, -0.005891895, -0.013689039, 0.002192959, 0.007913215, -0.03852223, 0.007958798, -0.007133473, 0.011234009, -0.001410361]"
   ]
  },
  {
   "cell_type": "code",
   "execution_count": null,
   "metadata": {},
   "outputs": [],
   "source": [
    "figure(figsize=(15, 3))\n",
    "plot(seq1, '-^')\n",
    "grid(True)"
   ]
  },
  {
   "cell_type": "code",
   "execution_count": null,
   "metadata": {},
   "outputs": [],
   "source": [
    "figure(figsize=(15, 3))\n",
    "\n",
    "# Stem plot\n",
    "stem(seq1)"
   ]
  },
  {
   "cell_type": "code",
   "execution_count": null,
   "metadata": {},
   "outputs": [],
   "source": [
    "figure(figsize=(15, 3))\n",
    "bar(arange(len(seq1)), seq1)"
   ]
  },
  {
   "cell_type": "markdown",
   "metadata": {},
   "source": [
    "## Polar Plot: циклические данные"
   ]
  },
  {
   "cell_type": "code",
   "execution_count": null,
   "metadata": {},
   "outputs": [],
   "source": [
    "r = np.arange(0, 3.0, 0.01)\n",
    "theta = 2 * np.pi * r\n",
    "\n",
    "figure(figsize=(5, 5))\n",
    "polar(theta, r)"
   ]
  },
  {
   "cell_type": "markdown",
   "metadata": {},
   "source": [
    "# Категориальные данные"
   ]
  },
  {
   "cell_type": "code",
   "execution_count": null,
   "metadata": {},
   "outputs": [],
   "source": [
    "# path = 'C:/Users/rusrom.EUROPE/OneDrive/Teaching/MachineLearning/data/digit_recognizer/train.csv' # путь к папке с данными\n",
    "frame = pandas.read_csv('https://archive.ics.uci.edu/ml/machine-learning-databases/autos/imports-85.data', \n",
    "                        names=['symboling', 'normalized-losses', 'make', 'fuel-type', 'aspiration', 'num-of-doors', 'body-style', 'rwd', 'engine-location', 'wheel-base', 'length', 'width', 'height', 'curb-weight', 'engine-type', 'num-of-cylinders', 'engine-size', 'spfi', 'bore', 'stroke', 'compression-ratio', 'horsepower', 'peak-rpm', 'city-mpg', 'highway-mpg', 'price'])\n",
    "frame.head()"
   ]
  },
  {
   "cell_type": "code",
   "execution_count": null,
   "metadata": {},
   "outputs": [],
   "source": [
    "frame.describe()"
   ]
  },
  {
   "cell_type": "code",
   "execution_count": null,
   "metadata": {},
   "outputs": [],
   "source": [
    "frame.describe(include='all')"
   ]
  },
  {
   "cell_type": "code",
   "execution_count": null,
   "metadata": {},
   "outputs": [],
   "source": [
    "frame.groupby('body-style').count()"
   ]
  },
  {
   "cell_type": "markdown",
   "metadata": {},
   "source": [
    "## Многомерные данные"
   ]
  },
  {
   "cell_type": "code",
   "execution_count": null,
   "metadata": {
    "collapsed": true
   },
   "outputs": [],
   "source": [
    "iris = datasets.load_iris()\n",
    "\n",
    "iris_frame = pandas.DataFrame(iris.data)\n",
    "iris_frame.columns = iris.feature_names\n",
    "iris_frame['target'] = iris.target"
   ]
  },
  {
   "cell_type": "code",
   "execution_count": null,
   "metadata": {},
   "outputs": [],
   "source": [
    "iris_frame.head()"
   ]
  },
  {
   "cell_type": "markdown",
   "metadata": {},
   "source": [
    "## Scatter plot"
   ]
  },
  {
   "cell_type": "code",
   "execution_count": null,
   "metadata": {},
   "outputs": [],
   "source": [
    "figure(figsize=(7, 7))\n",
    "scatter(iris_frame.iloc[:, 0], iris_frame.iloc[:, 1], alpha=0.5)\n",
    "grid(True)"
   ]
  },
  {
   "cell_type": "code",
   "execution_count": null,
   "metadata": {},
   "outputs": [],
   "source": [
    "N = len(iris_frame.iloc[:,:4].T)\n",
    "T=len(iris_frame.iloc[:,:])\n",
    "color=[]\n",
    "for t in range(T):\n",
    "    if iris_frame.ix[t,4]==1.0:\n",
    "        color+=['blue']\n",
    "    if iris_frame.ix[t,4]==2.0:\n",
    "        color+=['red']\n",
    "    if iris_frame.ix[t,4]==3.0:\n",
    "        color+=['yellow']\n",
    "data_name=['Sepal length', 'Seal width', 'Petal length', 'Petal width']\n",
    "fig = plt.figure(figsize=(15, 10)) \n",
    "for i in list(range(N)):\n",
    "    for j in list(range(N)): \n",
    "        ax = fig.add_subplot(N,N,i*N+j+1) \n",
    "        if j == 0: \n",
    "            ax.set_ylabel(data_name[i],size='12')\n",
    "        if i == 0: \n",
    "            ax.set_title(data_name[j],size='12')\n",
    "        if i == j: \n",
    "            ax.hist(iris_frame.iloc[:,i], 10) \n",
    "        else:    \n",
    "            ax.scatter(iris_frame.iloc[:,i], iris_frame.iloc[:,j] ,c=color[:], alpha=0.5)  "
   ]
  },
  {
   "cell_type": "code",
   "execution_count": null,
   "metadata": {},
   "outputs": [],
   "source": [
    "sns.pairplot(iris_frame, hue = 'target')"
   ]
  },
  {
   "cell_type": "markdown",
   "metadata": {},
   "source": [
    "## Данные какой размерности можно представить одним двумерным скаттер-плотом?"
   ]
  },
  {
   "cell_type": "markdown",
   "metadata": {},
   "source": [
    " - координата X\n",
    " - координата Y\n",
    " - цвет\n",
    " - размер\n",
    " - форма"
   ]
  },
  {
   "cell_type": "code",
   "execution_count": null,
   "metadata": {
    "collapsed": true
   },
   "outputs": [],
   "source": [
    "diabetes = datasets.load_diabetes()"
   ]
  },
  {
   "cell_type": "code",
   "execution_count": null,
   "metadata": {},
   "outputs": [],
   "source": [
    "min(diabetes.data[:, 5]), max(diabetes.data[:, 5])"
   ]
  },
  {
   "cell_type": "code",
   "execution_count": null,
   "metadata": {},
   "outputs": [],
   "source": [
    "figure(figsize=(8, 8))\n",
    "\n",
    "feature = diabetes.data[:, 5]\n",
    "s = 200*((feature - min(feature)) / (max(feature) - min(feature)))\n",
    "\n",
    "feature2 = (diabetes.data[:, 6] > 0)\n",
    "\n",
    "scatter(diabetes.data[feature2, 2], \n",
    "        diabetes.data[feature2, 4], \n",
    "        c=diabetes.data[feature2, 1], \n",
    "        s=s, \n",
    "        cmap='rainbow', \n",
    "        marker='s',\n",
    "        alpha=0.7)\n",
    "scatter(diabetes.data[logical_not(feature2), 2], \n",
    "        diabetes.data[logical_not(feature2), 4], \n",
    "        c=diabetes.data[logical_not(feature2), 1], \n",
    "        s=s, \n",
    "        cmap='rainbow', \n",
    "        marker='o',\n",
    "        alpha=0.7)"
   ]
  },
  {
   "cell_type": "markdown",
   "metadata": {},
   "source": [
    "## Дискретные признаки и scatter"
   ]
  },
  {
   "cell_type": "code",
   "execution_count": null,
   "metadata": {
    "collapsed": true
   },
   "outputs": [],
   "source": [
    "f = (diabetes.data[:,3] - min(diabetes.data[:,3]) )*4\n",
    "feature = zeros(len(f))\n",
    "feature[f > 0.2] = 1\n",
    "feature[f > 0.4] = 2\n",
    "feature[f > 0.6] = 3\n",
    "feature[f > 0.8] = 4"
   ]
  },
  {
   "cell_type": "code",
   "execution_count": null,
   "metadata": {},
   "outputs": [],
   "source": [
    "figure(figsize=(12, 7))\n",
    "scatter(diabetes.data[:,2], feature, alpha=0.5, c=diabetes.data[:, 1], s=40)\n",
    "grid(True)"
   ]
  },
  {
   "cell_type": "code",
   "execution_count": null,
   "metadata": {},
   "outputs": [],
   "source": [
    "figure(figsize=(12, 7))\n",
    "scatter(diabetes.data[:,2], feature + 0.15*randn(len(feature)), alpha=0.5, c=diabetes.data[:, 1], s=40)\n",
    "grid(True)"
   ]
  },
  {
   "cell_type": "markdown",
   "metadata": {},
   "source": [
    "<h1 align=\"center\"> Генерация данных </h1>"
   ]
  },
  {
   "cell_type": "markdown",
   "metadata": {},
   "source": [
    "# Случайные наборы данных"
   ]
  },
  {
   "cell_type": "code",
   "execution_count": null,
   "metadata": {
    "collapsed": true
   },
   "outputs": [],
   "source": [
    "def plot_model_data(blue_data, red_data):\n",
    "    pylab.figure(figsize=(10, 10))\n",
    "    pylab.scatter(blue_data[:,0], blue_data[:,1], color=\"blue\", alpha=0.3)\n",
    "    pylab.scatter(red_data[:,0], red_data[:,1], color=\"red\", alpha=0.3)\n",
    "    pylab.show()"
   ]
  },
  {
   "cell_type": "code",
   "execution_count": null,
   "metadata": {
    "collapsed": true
   },
   "outputs": [],
   "source": [
    "def generate_linear(point_count, slope, constant):\n",
    "    points = np.random.rand(point_count, 2)\n",
    "    above_index = slope * points[:, 0] + constant < points[:, 1]\n",
    "    blue_data = points[above_index, :]\n",
    "    red_data = points[~above_index, :]\n",
    "    return blue_data, red_data"
   ]
  },
  {
   "cell_type": "code",
   "execution_count": null,
   "metadata": {},
   "outputs": [],
   "source": [
    "linear1, linerate2 = generate_linear(6000, 1, 0.5)\n",
    "plot_model_data(linear1, linerate2)"
   ]
  },
  {
   "cell_type": "code",
   "execution_count": null,
   "metadata": {},
   "outputs": [],
   "source": [
    "linear1, linerate2 = generate_linear(6000, 2, 0.0)\n",
    "plot_model_data(linear1, linerate2)"
   ]
  },
  {
   "cell_type": "code",
   "execution_count": null,
   "metadata": {
    "collapsed": true
   },
   "outputs": [],
   "source": [
    "def generate_circle(point_count, center, radius = 0.25):\n",
    "    points = np.random.rand(point_count, 2)\n",
    "    x, y = center\n",
    "    inside_index = (points[:, 0] - x)**2 + (points[:, 1] - y)**2 <= (radius)**2\n",
    "    blue_data = points[inside_index, :]\n",
    "    red_data = points[~inside_index, :]\n",
    "    return blue_data, red_data"
   ]
  },
  {
   "cell_type": "code",
   "execution_count": null,
   "metadata": {},
   "outputs": [],
   "source": [
    "blue_data, red_data = generate_circle(6000, (0.5, 0.5))\n",
    "plot_model_data(blue_data, red_data)"
   ]
  },
  {
   "cell_type": "code",
   "execution_count": null,
   "metadata": {
    "collapsed": true
   },
   "outputs": [],
   "source": [
    "def generate_saw(point_count, width, height):\n",
    "    points = np.random.rand(point_count, 2)\n",
    "    subsaw_index = (points[:, 0] / width).astype(int)\n",
    "    unit = points[:, 0] - subsaw_index * width\n",
    "    below_index = points[:, 1] < 0.5 - 2.0 * (subsaw_index % 2 - 0.5) * (unit * 2 * height / width - height)\n",
    "    blue_data = points[below_index, :]\n",
    "    red_data = points[~below_index, :]\n",
    "    return blue_data, red_data"
   ]
  },
  {
   "cell_type": "code",
   "execution_count": null,
   "metadata": {},
   "outputs": [],
   "source": [
    "blue_data, red_data = generate_saw(5000, 0.05, 0.1)\n",
    "plot_model_data(blue_data, red_data)"
   ]
  },
  {
   "cell_type": "code",
   "execution_count": null,
   "metadata": {},
   "outputs": [],
   "source": [
    "blue_data, red_data = generate_saw(6000, 0.05, 0.1)\n",
    "plot_model_data(blue_data, red_data)"
   ]
  },
  {
   "cell_type": "code",
   "execution_count": null,
   "metadata": {},
   "outputs": [],
   "source": [
    "blue_data, red_data = generate_saw(6000, 0.1, 0.1)\n",
    "plot_model_data(blue_data, red_data)"
   ]
  },
  {
   "cell_type": "code",
   "execution_count": null,
   "metadata": {
    "collapsed": true
   },
   "outputs": [],
   "source": [
    "def generate_gaussian(point_count, mu, transform_matrix):\n",
    "    \"\"\"V = transform_matrix\n",
    "    function: X = mu + V.T x X\n",
    "    output: Normal(mu, V.T x V)\n",
    "    \"\"\"\n",
    "    points = np.random.randn(point_count, 2)\n",
    "    points = mu + np.dot(transform_matrix.T, points.T).T\n",
    "    return points"
   ]
  },
  {
   "cell_type": "code",
   "execution_count": null,
   "metadata": {},
   "outputs": [],
   "source": [
    "blue_data = generate_gaussian(3000, (0, 0), np.array([[0.1, 0.2], [0.1, 0.5]]))\n",
    "red_data = generate_gaussian(3000, (0.5, 0), np.array([[0.1, 0], [0, 1.0]]))\n",
    "plot_model_data(blue_data, red_data)"
   ]
  },
  {
   "cell_type": "markdown",
   "metadata": {},
   "source": [
    "# Генерация выборок в sklearn"
   ]
  },
  {
   "cell_type": "markdown",
   "metadata": {},
   "source": [
    "**Способы генерации данных:** \n",
    "* make_classification\n",
    "* make_regression\n",
    "* make_circles\n",
    "* make_checkerboard\n",
    "* etc"
   ]
  },
  {
   "cell_type": "markdown",
   "metadata": {},
   "source": [
    "#### datasets.make_circles"
   ]
  },
  {
   "cell_type": "code",
   "execution_count": null,
   "metadata": {
    "collapsed": true
   },
   "outputs": [],
   "source": [
    "circles = datasets.make_circles()"
   ]
  },
  {
   "cell_type": "code",
   "execution_count": null,
   "metadata": {},
   "outputs": [],
   "source": [
    "print (\"features: {}\".format(circles[0][:10]))\n",
    "print (\"target: {}\".format(circles[1][:10]))"
   ]
  },
  {
   "cell_type": "code",
   "execution_count": null,
   "metadata": {},
   "outputs": [],
   "source": [
    "# классы точек в датасете\n",
    "circles[1]"
   ]
  },
  {
   "cell_type": "code",
   "execution_count": null,
   "metadata": {},
   "outputs": [],
   "source": [
    "colors = ListedColormap(['red', 'yellow'])\n",
    "\n",
    "pyplot.figure(figsize(8, 8))\n",
    "pyplot.scatter(list((x[0] for x in circles[0])), list((x[1] for x in circles[0])), c = circles[1], cmap = colors)"
   ]
  },
  {
   "cell_type": "code",
   "execution_count": null,
   "metadata": {
    "collapsed": true
   },
   "outputs": [],
   "source": [
    "def plot_2d_dataset(data, colors):\n",
    "    pyplot.figure(figsize(8, 8))\n",
    "    pyplot.scatter(list(x[0] for x in data[0]), list(x[0] for x in data[0]), c = data[1], cmap = colors)"
   ]
  },
  {
   "cell_type": "code",
   "execution_count": null,
   "metadata": {
    "collapsed": true
   },
   "outputs": [],
   "source": [
    "noisy_circles = datasets.make_circles(noise = 0.15)"
   ]
  },
  {
   "cell_type": "code",
   "execution_count": null,
   "metadata": {},
   "outputs": [],
   "source": [
    "plot_2d_dataset(noisy_circles, colors)"
   ]
  },
  {
   "cell_type": "markdown",
   "metadata": {},
   "source": [
    "#### datasets.make_classification"
   ]
  },
  {
   "cell_type": "code",
   "execution_count": null,
   "metadata": {
    "collapsed": true
   },
   "outputs": [],
   "source": [
    "simple_classification_problem = datasets.make_classification(n_features = 2, n_informative = 1, \n",
    "                                                            n_redundant = 1, n_clusters_per_class = 1,\n",
    "                                                            random_state = 1 )"
   ]
  },
  {
   "cell_type": "code",
   "execution_count": null,
   "metadata": {},
   "outputs": [],
   "source": [
    "plot_2d_dataset(simple_classification_problem, colors)"
   ]
  },
  {
   "cell_type": "code",
   "execution_count": null,
   "metadata": {
    "collapsed": true
   },
   "outputs": [],
   "source": [
    "classification_problem = datasets.make_classification(n_features = 2, n_informative = 2, n_classes = 4, \n",
    "                                                      n_redundant = 0, n_clusters_per_class = 1, random_state = 1)\n",
    "\n",
    "colors = ListedColormap(['red', 'blue', 'green', 'yellow'])"
   ]
  },
  {
   "cell_type": "code",
   "execution_count": null,
   "metadata": {},
   "outputs": [],
   "source": [
    "plot_2d_dataset(classification_problem, colors)"
   ]
  }
 ],
 "metadata": {
  "kernelspec": {
   "display_name": "Python 3",
   "language": "python",
   "name": "python3"
  },
  "language_info": {
   "codemirror_mode": {
    "name": "ipython",
    "version": 3
   },
   "file_extension": ".py",
   "mimetype": "text/x-python",
   "name": "python",
   "nbconvert_exporter": "python",
   "pygments_lexer": "ipython3",
   "version": "3.6.1"
  }
 },
 "nbformat": 4,
 "nbformat_minor": 1
}
